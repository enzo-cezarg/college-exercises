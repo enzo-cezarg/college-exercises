{
  "cells": [
    {
      "cell_type": "markdown",
      "metadata": {},
      "source": [
        "## Install Dependencies"
      ]
    },
    {
      "cell_type": "code",
      "execution_count": null,
      "metadata": {
        "colab": {
          "base_uri": "https://localhost:8080/"
        },
        "id": "v5kKZgZ4KJHP",
        "outputId": "bc6700b7-4f88-4af5-ac3f-dbbbe1e72b30"
      },
      "outputs": [],
      "source": [
        "!pip install ColabTurtlePlus\n",
        "from ColabTurtlePlus import *"
      ]
    },
    {
      "cell_type": "markdown",
      "metadata": {},
      "source": [
        "## Code"
      ]
    },
    {
      "cell_type": "markdown",
      "metadata": {},
      "source": [
        "Esse código foi feito com propósito do estudo de funções e desenha uma casa com o módulo Turtle."
      ]
    },
    {
      "cell_type": "code",
      "execution_count": null,
      "metadata": {
        "colab": {
          "base_uri": "https://localhost:8080/",
          "height": 621
        },
        "id": "wl8pfz_XKkrr",
        "outputId": "0d37e6a5-7881-4d6d-ae4f-dee401de4f03"
      },
      "outputs": [],
      "source": [
        "from ColabTurtlePlus.Turtle import *\n",
        "clearscreen()\n",
        "\n",
        "turtle = Turtle()\n",
        "turtle.speed(8)\n",
        "\n",
        "def poligono(tam, lados):\n",
        "  ang = 360/lados\n",
        "  for lado in range(lados):\n",
        "    turtle.forward(tam)\n",
        "    turtle.left(ang)\n",
        "\n",
        "#lados = int(input('Polígono de quantos lados? '))\n",
        "#tam = int(input('Qual tamanho? '))\n",
        "#poligono(tam, lados)\n",
        "\n",
        "def retangulo(tamH, tamV):\n",
        "  for i in range(2):\n",
        "    turtle.forward(tamH)\n",
        "    turtle.right(90)\n",
        "    turtle.forward(tamV)\n",
        "    turtle.right(90)\n",
        "\n",
        "def quadrado(tam):\n",
        "  retangulo(tam, tam)\n",
        "\n",
        "def casa():\n",
        "  quadrado(50)\n",
        "  poligono(50, 3)\n",
        "  turtle.penup()\n",
        "  turtle.forward(25)\n",
        "  turtle.right(90)\n",
        "  turtle.forward(50)\n",
        "  turtle.pendown()\n",
        "  turtle.right(90)\n",
        "  retangulo(15, 20)\n",
        "\n",
        "casa()\n"
      ]
    }
  ],
  "metadata": {
    "colab": {
      "provenance": []
    },
    "kernelspec": {
      "display_name": "Python 3",
      "name": "python3"
    },
    "language_info": {
      "codemirror_mode": {
        "name": "ipython",
        "version": 3
      },
      "file_extension": ".py",
      "mimetype": "text/x-python",
      "name": "python",
      "nbconvert_exporter": "python",
      "pygments_lexer": "ipython3",
      "version": "3.11.7"
    }
  },
  "nbformat": 4,
  "nbformat_minor": 0
}
