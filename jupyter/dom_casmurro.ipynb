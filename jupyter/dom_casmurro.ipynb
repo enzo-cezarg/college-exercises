{
 "cells": [
  {
   "cell_type": "markdown",
   "metadata": {},
   "source": [
    "# Code"
   ]
  },
  {
   "cell_type": "markdown",
   "metadata": {},
   "source": [
    "Esse código lê as palavras do arquivo \"domcasmurro.txt\" e conta quantas ocorrências existem para cada palavra."
   ]
  },
  {
   "cell_type": "code",
   "execution_count": 9,
   "metadata": {},
   "outputs": [
    {
     "name": "stdout",
     "output_type": "stream",
     "text": [
      "  1 - [capitú => 330]\n",
      "  2 - [elle => 225]\n",
      "  3 - [mãe => 209]\n",
      "  4 - [tambem => 182]\n",
      "  5 - [tudo => 180]\n",
      "  6 - [dias => 176]\n",
      "  7 - [ella => 172]\n",
      "  8 - [casa => 165]\n",
      "  9 - [the => 161]\n",
      " 10 - [mim => 158]\n",
      " 11 - [olhos => 157]\n",
      " 12 - [josé => 155]\n",
      " 13 - [assim => 147]\n",
      " 14 - [vez => 142]\n",
      " 15 - [outra => 137]\n",
      " 16 - [agora => 137]\n",
      " 17 - [ainda => 133]\n",
      " 18 - [nada => 130]\n",
      " 19 - [dia => 120]\n",
      " 20 - [disse => 117]\n",
      " 21 - [tempo => 117]\n",
      " 22 - [tão => 113]\n",
      " 23 - [padre => 110]\n",
      " 24 - [escobar => 107]\n",
      " 25 - [outro => 101]\n"
     ]
    }
   ],
   "source": [
    "import string\n",
    "import nltk\n",
    "\n",
    "#nltk.download('stopwords')\n",
    "stopwords = nltk.corpus.stopwords.words('portuguese')\n",
    "\n",
    "freq = {}\n",
    "\n",
    "with open('../csv/domcasmurro.txt') as arq:\n",
    "  inicio = False\n",
    "  # Para cada linha no texto\n",
    "  for linha in arq:\n",
    "    linha = linha[:-1]\n",
    "    if linha == 'I':\n",
    "      inicio = True\n",
    "    if not inicio or linha == '': continue\n",
    "    linha = linha.lower()[:-1]\n",
    "\n",
    "    for pont in string.punctuation:\n",
    "      linha = linha.replace(pont, '')\n",
    "    for pal in linha.split(' '):\n",
    "      if len(pal) < 3 or pal in stopwords:\n",
    "        continue\n",
    "      if pal not in freq:\n",
    "        freq[pal] = 0\n",
    "      freq[pal] = freq[pal] + 1\n",
    "\n",
    "cont = 1\n",
    "\n",
    "for chave,valor in sorted(freq.items(), key=lambda x: x[1], reverse=True):\n",
    "  print(f'{cont:3} - [{chave} => {valor}]')\n",
    "  cont += 1\n",
    "  if cont > 25:\n",
    "    break\n",
    "  \n",
    "arq.close()"
   ]
  }
 ],
 "metadata": {
  "kernelspec": {
   "display_name": "base",
   "language": "python",
   "name": "python3"
  },
  "language_info": {
   "codemirror_mode": {
    "name": "ipython",
    "version": 3
   },
   "file_extension": ".py",
   "mimetype": "text/x-python",
   "name": "python",
   "nbconvert_exporter": "python",
   "pygments_lexer": "ipython3",
   "version": "3.11.7"
  }
 },
 "nbformat": 4,
 "nbformat_minor": 2
}
