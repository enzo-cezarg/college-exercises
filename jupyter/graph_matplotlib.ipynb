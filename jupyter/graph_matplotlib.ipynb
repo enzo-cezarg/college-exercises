{
 "cells": [
  {
   "cell_type": "markdown",
   "metadata": {},
   "source": [
    "# Import dependencies"
   ]
  },
  {
   "cell_type": "code",
   "execution_count": null,
   "metadata": {},
   "outputs": [],
   "source": [
    "import matplotlib.pyplot as plt\n",
    "import random"
   ]
  },
  {
   "cell_type": "markdown",
   "metadata": {},
   "source": [
    "# Code"
   ]
  },
  {
   "cell_type": "markdown",
   "metadata": {},
   "source": [
    "Esse código gera um gráfico de bolinhas através de _list comprehensions_ de $x$, $x^2$ e $x^3$"
   ]
  },
  {
   "cell_type": "code",
   "execution_count": null,
   "metadata": {},
   "outputs": [],
   "source": [
    "listax = [x for x in range(10)]\n",
    "listay = [x**2 for x in range(10)]\n",
    "listay2 = [x**3 for x in range(10)]\n",
    "\n",
    "plt.plot(listax,listay,'ro',label='$x^2$')\n",
    "plt.plot(listax,listay2,'bo',label='$x^3$')\n",
    "\n",
    "plt.title('$x^2$ e $x^3$')\n",
    "plt.legend()\n",
    "plt.show()"
   ]
  },
  {
   "cell_type": "markdown",
   "metadata": {},
   "source": [
    "Esse código gera um gráfico de barras com base em valores semialeatórios e uso de _list comprehensions_"
   ]
  },
  {
   "cell_type": "code",
   "execution_count": null,
   "metadata": {},
   "outputs": [],
   "source": [
    "random.seed(42)\n",
    "anos = [a for a in range(1990, 2010)]\n",
    "valores = [random.randint(100,1500) for v in range(len(anos))]\n",
    "\n",
    "plt.bar(anos,valores)\n",
    "plt.xticks(range(1990,2010,2))\n",
    "plt.show()"
   ]
  },
  {
   "cell_type": "markdown",
   "metadata": {},
   "source": [
    "Esse código gera um histograma baseado em valores semialeatórios."
   ]
  },
  {
   "cell_type": "code",
   "execution_count": null,
   "metadata": {},
   "outputs": [],
   "source": [
    "random.seed(42)\n",
    "\n",
    "valores = [random.randint(0,11) for v in range(100)]\n",
    "x = [v+0.5 for v in range(0,11)]\n",
    "\n",
    "plt.hist(valores,x)\n",
    "plt.show()"
   ]
  },
  {
   "cell_type": "markdown",
   "metadata": {},
   "source": [
    "Esse código gera uma tabela com base nos dados fornecidos por um arquivo."
   ]
  },
  {
   "cell_type": "code",
   "execution_count": null,
   "metadata": {},
   "outputs": [],
   "source": [
    "def carregaDados(nomeArq):\n",
    "  aux = []\n",
    "  with open(nomeArq) as csv:\n",
    "    csv.readline()\n",
    "    for linha in csv:\n",
    "      nova = [float(val) for val in linha.split(',')]\n",
    "      aux.append(nova)\n",
    "  return aux\n",
    "\n",
    "dados = carregaDados('sample_data/california_housing_test.csv')\n",
    "\n",
    "longitudes = [aux[0] for aux in dados]\n",
    "latitudes = [aux[1] for aux in dados]\n",
    "\n",
    "plt.scatter(longitudes,latitudes,s=1)\n",
    "plt.show()"
   ]
  },
  {
   "cell_type": "code",
   "execution_count": null,
   "metadata": {},
   "outputs": [],
   "source": [
    "# Gerando um mapa com o código anterior\n",
    "import folium\n",
    "\n",
    "\n",
    "map = folium.Map(location=[36.7783,-119.4179],zoom_start=6,min_zoom=5)\n",
    "\n",
    "for aux in dados:\n",
    "  folium.CircleMarker(radius=1, location=[aux[1],aux[0]]).add_to(map)\n",
    "\n",
    "map"
   ]
  }
 ],
 "metadata": {
  "language_info": {
   "name": "python"
  }
 },
 "nbformat": 4,
 "nbformat_minor": 2
}
